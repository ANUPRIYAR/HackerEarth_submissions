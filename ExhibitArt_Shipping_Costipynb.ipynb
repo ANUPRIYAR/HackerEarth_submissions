{
  "nbformat": 4,
  "nbformat_minor": 0,
  "metadata": {
    "colab": {
      "name": "ExhibitArt_Shipping_Costipynb",
      "provenance": [],
      "mount_file_id": "1HEDYIBVepVAWshjKkjOk0jL-7hjrru17",
      "authorship_tag": "ABX9TyPbZcGLEq1Q1FHpkCAMpZGf",
      "include_colab_link": true
    },
    "kernelspec": {
      "name": "python3",
      "display_name": "Python 3"
    }
  },
  "cells": [
    {
      "cell_type": "markdown",
      "metadata": {
        "id": "view-in-github",
        "colab_type": "text"
      },
      "source": [
        "<a href=\"https://colab.research.google.com/github/ANUPRIYAR/HackerEarth_submissions/blob/main/ExhibitArt_Shipping_Costipynb.ipynb\" target=\"_parent\"><img src=\"https://colab.research.google.com/assets/colab-badge.svg\" alt=\"Open In Colab\"/></a>"
      ]
    },
    {
      "cell_type": "code",
      "metadata": {
        "id": "j7HuRkKhtF9c"
      },
      "source": [
        "# !unzip /content/drive/MyDrive/Deep_learning/Datasets/7342422066d511eb.zip"
      ],
      "execution_count": 83,
      "outputs": []
    },
    {
      "cell_type": "code",
      "metadata": {
        "id": "MHr1aGaw06U1"
      },
      "source": [
        "import pandas as pd\r\n",
        "import numpy as np\r\n",
        "import matplotlib.pyplot as plt\r\n",
        "import seaborn as sns\r\n",
        "import warnings\r\n",
        "warnings.filterwarnings('ignore')\r\n",
        "\r\n",
        "from sklearn.preprocessing import LabelEncoder\r\n",
        "from sklearn.linear_model import ElasticNet\r\n",
        "from sklearn.ensemble import RandomForestRegressor\r\n",
        "from xgboost import XGBRegressor\r\n",
        "from sklearn import metrics\r\n",
        "import sklearn\r\n",
        "from sklearn.model_selection import train_test_split\r\n",
        "from sklearn.preprocessing import MinMaxScaler\r\n",
        "from sklearn.model_selection import GridSearchCV\r\n",
        "from sklearn.metrics import mean_squared_error"
      ],
      "execution_count": 161,
      "outputs": []
    },
    {
      "cell_type": "code",
      "metadata": {
        "colab": {
          "base_uri": "https://localhost:8080/",
          "height": 360
        },
        "id": "s5m1kAF809la",
        "outputId": "4d814487-41be-42b5-c8c1-907312d48baa"
      },
      "source": [
        "train_df = pd.read_csv('/content/dataset/train.csv')\r\n",
        "test_df = pd.read_csv('/content/dataset/test.csv')\r\n",
        "train_df.head()"
      ],
      "execution_count": 85,
      "outputs": [
        {
          "output_type": "execute_result",
          "data": {
            "text/html": [
              "<div>\n",
              "<style scoped>\n",
              "    .dataframe tbody tr th:only-of-type {\n",
              "        vertical-align: middle;\n",
              "    }\n",
              "\n",
              "    .dataframe tbody tr th {\n",
              "        vertical-align: top;\n",
              "    }\n",
              "\n",
              "    .dataframe thead th {\n",
              "        text-align: right;\n",
              "    }\n",
              "</style>\n",
              "<table border=\"1\" class=\"dataframe\">\n",
              "  <thead>\n",
              "    <tr style=\"text-align: right;\">\n",
              "      <th></th>\n",
              "      <th>Customer Id</th>\n",
              "      <th>Artist Name</th>\n",
              "      <th>Artist Reputation</th>\n",
              "      <th>Height</th>\n",
              "      <th>Width</th>\n",
              "      <th>Weight</th>\n",
              "      <th>Material</th>\n",
              "      <th>Price Of Sculpture</th>\n",
              "      <th>Base Shipping Price</th>\n",
              "      <th>International</th>\n",
              "      <th>Express Shipment</th>\n",
              "      <th>Installation Included</th>\n",
              "      <th>Transport</th>\n",
              "      <th>Fragile</th>\n",
              "      <th>Customer Information</th>\n",
              "      <th>Remote Location</th>\n",
              "      <th>Scheduled Date</th>\n",
              "      <th>Delivery Date</th>\n",
              "      <th>Customer Location</th>\n",
              "      <th>Cost</th>\n",
              "    </tr>\n",
              "  </thead>\n",
              "  <tbody>\n",
              "    <tr>\n",
              "      <th>0</th>\n",
              "      <td>fffe3900350033003300</td>\n",
              "      <td>Billy Jenkins</td>\n",
              "      <td>0.26</td>\n",
              "      <td>17.0</td>\n",
              "      <td>6.0</td>\n",
              "      <td>4128.0</td>\n",
              "      <td>Brass</td>\n",
              "      <td>13.91</td>\n",
              "      <td>16.27</td>\n",
              "      <td>Yes</td>\n",
              "      <td>Yes</td>\n",
              "      <td>No</td>\n",
              "      <td>Airways</td>\n",
              "      <td>No</td>\n",
              "      <td>Working Class</td>\n",
              "      <td>No</td>\n",
              "      <td>06/07/15</td>\n",
              "      <td>06/03/15</td>\n",
              "      <td>New Michelle, OH 50777</td>\n",
              "      <td>-283.29</td>\n",
              "    </tr>\n",
              "    <tr>\n",
              "      <th>1</th>\n",
              "      <td>fffe3800330031003900</td>\n",
              "      <td>Jean Bryant</td>\n",
              "      <td>0.28</td>\n",
              "      <td>3.0</td>\n",
              "      <td>3.0</td>\n",
              "      <td>61.0</td>\n",
              "      <td>Brass</td>\n",
              "      <td>6.83</td>\n",
              "      <td>15.00</td>\n",
              "      <td>No</td>\n",
              "      <td>No</td>\n",
              "      <td>No</td>\n",
              "      <td>Roadways</td>\n",
              "      <td>No</td>\n",
              "      <td>Working Class</td>\n",
              "      <td>No</td>\n",
              "      <td>03/06/17</td>\n",
              "      <td>03/05/17</td>\n",
              "      <td>New Michaelport, WY 12072</td>\n",
              "      <td>-159.96</td>\n",
              "    </tr>\n",
              "    <tr>\n",
              "      <th>2</th>\n",
              "      <td>fffe3600370035003100</td>\n",
              "      <td>Laura Miller</td>\n",
              "      <td>0.07</td>\n",
              "      <td>8.0</td>\n",
              "      <td>5.0</td>\n",
              "      <td>237.0</td>\n",
              "      <td>Clay</td>\n",
              "      <td>4.96</td>\n",
              "      <td>21.18</td>\n",
              "      <td>No</td>\n",
              "      <td>No</td>\n",
              "      <td>No</td>\n",
              "      <td>Roadways</td>\n",
              "      <td>Yes</td>\n",
              "      <td>Working Class</td>\n",
              "      <td>Yes</td>\n",
              "      <td>03/09/15</td>\n",
              "      <td>03/08/15</td>\n",
              "      <td>Bowmanshire, WA 19241</td>\n",
              "      <td>-154.29</td>\n",
              "    </tr>\n",
              "    <tr>\n",
              "      <th>3</th>\n",
              "      <td>fffe350031003300</td>\n",
              "      <td>Robert Chaires</td>\n",
              "      <td>0.12</td>\n",
              "      <td>9.0</td>\n",
              "      <td>NaN</td>\n",
              "      <td>NaN</td>\n",
              "      <td>Aluminium</td>\n",
              "      <td>5.81</td>\n",
              "      <td>16.31</td>\n",
              "      <td>No</td>\n",
              "      <td>No</td>\n",
              "      <td>No</td>\n",
              "      <td>NaN</td>\n",
              "      <td>No</td>\n",
              "      <td>Wealthy</td>\n",
              "      <td>Yes</td>\n",
              "      <td>05/24/15</td>\n",
              "      <td>05/20/15</td>\n",
              "      <td>East Robyn, KY 86375</td>\n",
              "      <td>-161.16</td>\n",
              "    </tr>\n",
              "    <tr>\n",
              "      <th>4</th>\n",
              "      <td>fffe3900320038003400</td>\n",
              "      <td>Rosalyn Krol</td>\n",
              "      <td>0.15</td>\n",
              "      <td>17.0</td>\n",
              "      <td>6.0</td>\n",
              "      <td>324.0</td>\n",
              "      <td>Aluminium</td>\n",
              "      <td>3.18</td>\n",
              "      <td>11.94</td>\n",
              "      <td>Yes</td>\n",
              "      <td>Yes</td>\n",
              "      <td>Yes</td>\n",
              "      <td>Airways</td>\n",
              "      <td>No</td>\n",
              "      <td>Working Class</td>\n",
              "      <td>No</td>\n",
              "      <td>12/18/16</td>\n",
              "      <td>12/14/16</td>\n",
              "      <td>Aprilside, PA 52793</td>\n",
              "      <td>-159.23</td>\n",
              "    </tr>\n",
              "  </tbody>\n",
              "</table>\n",
              "</div>"
            ],
            "text/plain": [
              "            Customer Id     Artist Name  ...          Customer Location    Cost\n",
              "0  fffe3900350033003300   Billy Jenkins  ...     New Michelle, OH 50777 -283.29\n",
              "1  fffe3800330031003900     Jean Bryant  ...  New Michaelport, WY 12072 -159.96\n",
              "2  fffe3600370035003100    Laura Miller  ...      Bowmanshire, WA 19241 -154.29\n",
              "3      fffe350031003300  Robert Chaires  ...       East Robyn, KY 86375 -161.16\n",
              "4  fffe3900320038003400    Rosalyn Krol  ...        Aprilside, PA 52793 -159.23\n",
              "\n",
              "[5 rows x 20 columns]"
            ]
          },
          "metadata": {
            "tags": []
          },
          "execution_count": 85
        }
      ]
    },
    {
      "cell_type": "code",
      "metadata": {
        "colab": {
          "base_uri": "https://localhost:8080/",
          "height": 343
        },
        "id": "j6hyHSnQ5-SS",
        "outputId": "1515f582-4cef-43db-9842-1f1f7cc6fa94"
      },
      "source": [
        "test_df.head()"
      ],
      "execution_count": 86,
      "outputs": [
        {
          "output_type": "execute_result",
          "data": {
            "text/html": [
              "<div>\n",
              "<style scoped>\n",
              "    .dataframe tbody tr th:only-of-type {\n",
              "        vertical-align: middle;\n",
              "    }\n",
              "\n",
              "    .dataframe tbody tr th {\n",
              "        vertical-align: top;\n",
              "    }\n",
              "\n",
              "    .dataframe thead th {\n",
              "        text-align: right;\n",
              "    }\n",
              "</style>\n",
              "<table border=\"1\" class=\"dataframe\">\n",
              "  <thead>\n",
              "    <tr style=\"text-align: right;\">\n",
              "      <th></th>\n",
              "      <th>Customer Id</th>\n",
              "      <th>Artist Name</th>\n",
              "      <th>Artist Reputation</th>\n",
              "      <th>Height</th>\n",
              "      <th>Width</th>\n",
              "      <th>Weight</th>\n",
              "      <th>Material</th>\n",
              "      <th>Price Of Sculpture</th>\n",
              "      <th>Base Shipping Price</th>\n",
              "      <th>International</th>\n",
              "      <th>Express Shipment</th>\n",
              "      <th>Installation Included</th>\n",
              "      <th>Transport</th>\n",
              "      <th>Fragile</th>\n",
              "      <th>Customer Information</th>\n",
              "      <th>Remote Location</th>\n",
              "      <th>Scheduled Date</th>\n",
              "      <th>Delivery Date</th>\n",
              "      <th>Customer Location</th>\n",
              "    </tr>\n",
              "  </thead>\n",
              "  <tbody>\n",
              "    <tr>\n",
              "      <th>0</th>\n",
              "      <td>fffe3400310033003300</td>\n",
              "      <td>James Miller</td>\n",
              "      <td>0.35</td>\n",
              "      <td>53.0</td>\n",
              "      <td>18.0</td>\n",
              "      <td>871.0</td>\n",
              "      <td>Wood</td>\n",
              "      <td>5.98</td>\n",
              "      <td>19.11</td>\n",
              "      <td>Yes</td>\n",
              "      <td>Yes</td>\n",
              "      <td>No</td>\n",
              "      <td>Airways</td>\n",
              "      <td>No</td>\n",
              "      <td>Working Class</td>\n",
              "      <td>No</td>\n",
              "      <td>07/03/17</td>\n",
              "      <td>07/06/17</td>\n",
              "      <td>Santoshaven, IA 63481</td>\n",
              "    </tr>\n",
              "    <tr>\n",
              "      <th>1</th>\n",
              "      <td>fffe3600350035003400</td>\n",
              "      <td>Karen Vetrano</td>\n",
              "      <td>0.67</td>\n",
              "      <td>7.0</td>\n",
              "      <td>4.0</td>\n",
              "      <td>108.0</td>\n",
              "      <td>Clay</td>\n",
              "      <td>6.92</td>\n",
              "      <td>13.96</td>\n",
              "      <td>No</td>\n",
              "      <td>No</td>\n",
              "      <td>No</td>\n",
              "      <td>Roadways</td>\n",
              "      <td>Yes</td>\n",
              "      <td>Working Class</td>\n",
              "      <td>No</td>\n",
              "      <td>05/02/16</td>\n",
              "      <td>05/02/16</td>\n",
              "      <td>Ericksonton, OH 98253</td>\n",
              "    </tr>\n",
              "    <tr>\n",
              "      <th>2</th>\n",
              "      <td>fffe3700360030003500</td>\n",
              "      <td>Roseanne Gaona</td>\n",
              "      <td>0.61</td>\n",
              "      <td>6.0</td>\n",
              "      <td>5.0</td>\n",
              "      <td>97.0</td>\n",
              "      <td>Aluminium</td>\n",
              "      <td>4.23</td>\n",
              "      <td>13.62</td>\n",
              "      <td>Yes</td>\n",
              "      <td>No</td>\n",
              "      <td>No</td>\n",
              "      <td>Airways</td>\n",
              "      <td>No</td>\n",
              "      <td>Working Class</td>\n",
              "      <td>No</td>\n",
              "      <td>01/04/18</td>\n",
              "      <td>01/06/18</td>\n",
              "      <td>APO AP 83453</td>\n",
              "    </tr>\n",
              "    <tr>\n",
              "      <th>3</th>\n",
              "      <td>fffe350038003600</td>\n",
              "      <td>Todd Almanza</td>\n",
              "      <td>0.14</td>\n",
              "      <td>15.0</td>\n",
              "      <td>8.0</td>\n",
              "      <td>757.0</td>\n",
              "      <td>Clay</td>\n",
              "      <td>6.28</td>\n",
              "      <td>23.79</td>\n",
              "      <td>No</td>\n",
              "      <td>Yes</td>\n",
              "      <td>No</td>\n",
              "      <td>Roadways</td>\n",
              "      <td>Yes</td>\n",
              "      <td>Wealthy</td>\n",
              "      <td>No</td>\n",
              "      <td>09/14/17</td>\n",
              "      <td>09/17/17</td>\n",
              "      <td>Antonioborough, AL 54778</td>\n",
              "    </tr>\n",
              "    <tr>\n",
              "      <th>4</th>\n",
              "      <td>fffe3500390032003500</td>\n",
              "      <td>Francis Rivero</td>\n",
              "      <td>0.63</td>\n",
              "      <td>10.0</td>\n",
              "      <td>4.0</td>\n",
              "      <td>1673.0</td>\n",
              "      <td>Marble</td>\n",
              "      <td>4.39</td>\n",
              "      <td>17.83</td>\n",
              "      <td>No</td>\n",
              "      <td>Yes</td>\n",
              "      <td>Yes</td>\n",
              "      <td>Roadways</td>\n",
              "      <td>No</td>\n",
              "      <td>Working Class</td>\n",
              "      <td>Yes</td>\n",
              "      <td>12/03/17</td>\n",
              "      <td>12/02/17</td>\n",
              "      <td>Lake Frances, LA 03040</td>\n",
              "    </tr>\n",
              "  </tbody>\n",
              "</table>\n",
              "</div>"
            ],
            "text/plain": [
              "            Customer Id     Artist Name  ...  Delivery Date         Customer Location\n",
              "0  fffe3400310033003300    James Miller  ...       07/06/17     Santoshaven, IA 63481\n",
              "1  fffe3600350035003400   Karen Vetrano  ...       05/02/16     Ericksonton, OH 98253\n",
              "2  fffe3700360030003500  Roseanne Gaona  ...       01/06/18              APO AP 83453\n",
              "3      fffe350038003600    Todd Almanza  ...       09/17/17  Antonioborough, AL 54778\n",
              "4  fffe3500390032003500  Francis Rivero  ...       12/02/17    Lake Frances, LA 03040\n",
              "\n",
              "[5 rows x 19 columns]"
            ]
          },
          "metadata": {
            "tags": []
          },
          "execution_count": 86
        }
      ]
    },
    {
      "cell_type": "code",
      "metadata": {
        "id": "FFDv9jV21JCE"
      },
      "source": [
        "train_original = train_df.copy()\r\n",
        "test_original = test_df.copy()"
      ],
      "execution_count": 87,
      "outputs": []
    },
    {
      "cell_type": "code",
      "metadata": {
        "id": "a9T_q3Cm1NWB"
      },
      "source": [
        "train_df.drop(['Customer Id','Artist Name'], axis=1, inplace=True)\r\n",
        "test_df.drop(['Customer Id','Artist Name'], axis=1, inplace=True)"
      ],
      "execution_count": 88,
      "outputs": []
    },
    {
      "cell_type": "code",
      "metadata": {
        "id": "5-qyBAX21ds4"
      },
      "source": [
        "def divide_variables(df):\r\n",
        "  cols = df.columns\r\n",
        "  categorical_cols = []\r\n",
        "  numerical_cols = []\r\n",
        "  for col in cols:\r\n",
        "    if df[col].dtypes =='float64':\r\n",
        "      numerical_cols.append(col)\r\n",
        "    else: \r\n",
        "      categorical_cols.append(col)\r\n",
        "  return categorical_cols, numerical_cols"
      ],
      "execution_count": 89,
      "outputs": []
    },
    {
      "cell_type": "code",
      "metadata": {
        "colab": {
          "base_uri": "https://localhost:8080/"
        },
        "id": "glLUpK6u1gMl",
        "outputId": "e09251ab-fcc2-45a7-ac9d-5113eb7c5897"
      },
      "source": [
        "cat_cols, numeric_cols = divide_variables(train_df)\r\n",
        "print(\"Categorical Columns:\", cat_cols)\r\n",
        "print(\"Numerical Columns:\" , numeric_cols)"
      ],
      "execution_count": 90,
      "outputs": [
        {
          "output_type": "stream",
          "text": [
            "Categorical Columns: ['Material', 'International', 'Express Shipment', 'Installation Included', 'Transport', 'Fragile', 'Customer Information', 'Remote Location', 'Scheduled Date', 'Delivery Date', 'Customer Location']\n",
            "Numerical Columns: ['Artist Reputation', 'Height', 'Width', 'Weight', 'Price Of Sculpture', 'Base Shipping Price', 'Cost']\n"
          ],
          "name": "stdout"
        }
      ]
    },
    {
      "cell_type": "markdown",
      "metadata": {
        "id": "ApcFZAX71lcQ"
      },
      "source": [
        "# **Handling Missing variables**"
      ]
    },
    {
      "cell_type": "code",
      "metadata": {
        "colab": {
          "base_uri": "https://localhost:8080/"
        },
        "id": "dR5f-Weo1iuS",
        "outputId": "c09ea543-26f3-4d03-9b8f-f6995702f6af"
      },
      "source": [
        "train_df.isnull().sum()"
      ],
      "execution_count": 91,
      "outputs": [
        {
          "output_type": "execute_result",
          "data": {
            "text/plain": [
              "Artist Reputation         750\n",
              "Height                    375\n",
              "Width                     584\n",
              "Weight                    587\n",
              "Material                  764\n",
              "Price Of Sculpture          0\n",
              "Base Shipping Price         0\n",
              "International               0\n",
              "Express Shipment            0\n",
              "Installation Included       0\n",
              "Transport                1392\n",
              "Fragile                     0\n",
              "Customer Information        0\n",
              "Remote Location           771\n",
              "Scheduled Date              0\n",
              "Delivery Date               0\n",
              "Customer Location           0\n",
              "Cost                        0\n",
              "dtype: int64"
            ]
          },
          "metadata": {
            "tags": []
          },
          "execution_count": 91
        }
      ]
    },
    {
      "cell_type": "code",
      "metadata": {
        "colab": {
          "base_uri": "https://localhost:8080/"
        },
        "id": "Awbh_Tay1rD8",
        "outputId": "9a193243-2299-4f96-a04f-93c4c7f20699"
      },
      "source": [
        "test_df.isnull().sum()"
      ],
      "execution_count": 92,
      "outputs": [
        {
          "output_type": "execute_result",
          "data": {
            "text/plain": [
              "Artist Reputation        222\n",
              "Height                   119\n",
              "Width                    141\n",
              "Weight                   149\n",
              "Material                   0\n",
              "Price Of Sculpture         0\n",
              "Base Shipping Price        0\n",
              "International              0\n",
              "Express Shipment           0\n",
              "Installation Included      0\n",
              "Transport                232\n",
              "Fragile                    0\n",
              "Customer Information       0\n",
              "Remote Location            0\n",
              "Scheduled Date             0\n",
              "Delivery Date              0\n",
              "Customer Location          0\n",
              "dtype: int64"
            ]
          },
          "metadata": {
            "tags": []
          },
          "execution_count": 92
        }
      ]
    },
    {
      "cell_type": "code",
      "metadata": {
        "id": "37TYrbzV1vcI"
      },
      "source": [
        "# Filling na values for categorical variables\r\n",
        "for col in cat_cols:\r\n",
        "  train_df[col].fillna(train_df[col].mode()[0], inplace=True)\r\n",
        "\r\n",
        "for col in cat_cols:\r\n",
        "  test_df[col].fillna(test_df[col].mode()[0], inplace=True)"
      ],
      "execution_count": 93,
      "outputs": []
    },
    {
      "cell_type": "code",
      "metadata": {
        "id": "FXVjHKsn2Gqw"
      },
      "source": [
        "# Removing cost from numerical Variables\r\n",
        "numeric_cols.remove('Cost')"
      ],
      "execution_count": 94,
      "outputs": []
    },
    {
      "cell_type": "code",
      "metadata": {
        "id": "jz5FROF-2Pfm"
      },
      "source": [
        "# Filling na values for Numeric variables\r\n",
        "for col in numeric_cols:\r\n",
        "  train_df[col].fillna(train_df[col].median(), inplace=True)\r\n",
        "\r\n",
        "for col in numeric_cols:\r\n",
        "  test_df[col].fillna(test_df[col].median(), inplace=True)"
      ],
      "execution_count": 95,
      "outputs": []
    },
    {
      "cell_type": "code",
      "metadata": {
        "colab": {
          "base_uri": "https://localhost:8080/"
        },
        "id": "R1dTF2YQ2a3S",
        "outputId": "cb4c868a-e849-4dbb-a6e8-8cdcd5373eb3"
      },
      "source": [
        "# Sanity check for Null Values\r\n",
        "train_df.isnull().sum().any() & test_df.isnull().sum().any()"
      ],
      "execution_count": 96,
      "outputs": [
        {
          "output_type": "execute_result",
          "data": {
            "text/plain": [
              "False"
            ]
          },
          "metadata": {
            "tags": []
          },
          "execution_count": 96
        }
      ]
    },
    {
      "cell_type": "markdown",
      "metadata": {
        "id": "AlaDtQ9Z2xnl"
      },
      "source": [
        "# **Data Preprocessing**"
      ]
    },
    {
      "cell_type": "markdown",
      "metadata": {
        "id": "IJ54zq4u229R"
      },
      "source": [
        "# Preprocessing Categorical Variables\r\n",
        "\r\n"
      ]
    },
    {
      "cell_type": "code",
      "metadata": {
        "id": "xaUy4gk_2hcZ"
      },
      "source": [
        "def preprocess_category(df, categorical_fields):\r\n",
        "  encoding = LabelEncoder()\r\n",
        "  for col in categorical_fields:\r\n",
        "    df[col] = encoding.fit_transform(df[col])\r\n",
        "  return df\r\n"
      ],
      "execution_count": 97,
      "outputs": []
    },
    {
      "cell_type": "code",
      "metadata": {
        "id": "cFV8O7P_4YBI"
      },
      "source": [
        "train_df_processed = preprocess_category(train_df,cat_cols[:-3])\r\n",
        "test_df_processed = preprocess_category(test_df,cat_cols[:-3])"
      ],
      "execution_count": 98,
      "outputs": []
    },
    {
      "cell_type": "code",
      "metadata": {
        "id": "UdXqzHg56qT4"
      },
      "source": [
        "Material = pd.get_dummies(train_df_processed['Material'], drop_first=True, prefix='Material')"
      ],
      "execution_count": 99,
      "outputs": []
    },
    {
      "cell_type": "code",
      "metadata": {
        "id": "w2V2lowk7LI3"
      },
      "source": [
        "Material_test = pd.get_dummies(test_df_processed['Material'], drop_first=True, prefix='Material')"
      ],
      "execution_count": 100,
      "outputs": []
    },
    {
      "cell_type": "code",
      "metadata": {
        "id": "FUhHG1Z88NjO"
      },
      "source": [
        "Transport = pd.get_dummies(train_df_processed['Transport'], drop_first=True, prefix='Transport')\r\n",
        "Transport_test = pd.get_dummies(test_df_processed['Transport'], drop_first=True, prefix='Transport')"
      ],
      "execution_count": 102,
      "outputs": []
    },
    {
      "cell_type": "code",
      "metadata": {
        "id": "vKbRKy3_8p86"
      },
      "source": [
        "# Joining all together\r\n",
        "train_df_processed = pd.concat([train_df_processed.drop(['Material', 'Transport'], axis=1), Material, Transport], axis=1)\r\n",
        "test_df_processed = pd.concat([test_df_processed.drop(['Material', 'Transport'], axis=1) ,Material_test,  Transport_test], axis=1)"
      ],
      "execution_count": 103,
      "outputs": []
    },
    {
      "cell_type": "markdown",
      "metadata": {
        "id": "JA6X8TLoFhvO"
      },
      "source": [
        "# **Extracting state field**"
      ]
    },
    {
      "cell_type": "code",
      "metadata": {
        "id": "BbdOcIhc9Zmi"
      },
      "source": [
        "# Extracting states from Customer Location\r\n",
        "train_df_processed['state'] = train_df_processed['Customer Location'].str.split(',').str[1].str.split(' ').str[1]\r\n",
        "train_df_processed.drop('Customer Location', axis=1, inplace=True)"
      ],
      "execution_count": 106,
      "outputs": []
    },
    {
      "cell_type": "code",
      "metadata": {
        "id": "_L5s36C59pPy"
      },
      "source": [
        "test_df_processed['state'] = test_df_processed['Customer Location'].str.split(',').str[1].str.split(' ').str[1]\r\n",
        "test_df_processed.drop('Customer Location', axis=1, inplace=True)"
      ],
      "execution_count": 108,
      "outputs": []
    },
    {
      "cell_type": "code",
      "metadata": {
        "colab": {
          "base_uri": "https://localhost:8080/",
          "height": 165
        },
        "id": "_5WmimMo9re6",
        "outputId": "cbf2a83f-4040-4f97-dfba-48a8611220f1"
      },
      "source": [
        "train_df_processed.head(2)"
      ],
      "execution_count": 111,
      "outputs": [
        {
          "output_type": "execute_result",
          "data": {
            "text/html": [
              "<div>\n",
              "<style scoped>\n",
              "    .dataframe tbody tr th:only-of-type {\n",
              "        vertical-align: middle;\n",
              "    }\n",
              "\n",
              "    .dataframe tbody tr th {\n",
              "        vertical-align: top;\n",
              "    }\n",
              "\n",
              "    .dataframe thead th {\n",
              "        text-align: right;\n",
              "    }\n",
              "</style>\n",
              "<table border=\"1\" class=\"dataframe\">\n",
              "  <thead>\n",
              "    <tr style=\"text-align: right;\">\n",
              "      <th></th>\n",
              "      <th>Artist Reputation</th>\n",
              "      <th>Height</th>\n",
              "      <th>Width</th>\n",
              "      <th>Weight</th>\n",
              "      <th>Price Of Sculpture</th>\n",
              "      <th>Base Shipping Price</th>\n",
              "      <th>International</th>\n",
              "      <th>Express Shipment</th>\n",
              "      <th>Installation Included</th>\n",
              "      <th>Fragile</th>\n",
              "      <th>Customer Information</th>\n",
              "      <th>Remote Location</th>\n",
              "      <th>Scheduled Date</th>\n",
              "      <th>Delivery Date</th>\n",
              "      <th>Cost</th>\n",
              "      <th>Material_1</th>\n",
              "      <th>Material_2</th>\n",
              "      <th>Material_3</th>\n",
              "      <th>Material_4</th>\n",
              "      <th>Material_5</th>\n",
              "      <th>Material_6</th>\n",
              "      <th>Transport_1</th>\n",
              "      <th>Transport_2</th>\n",
              "      <th>state</th>\n",
              "    </tr>\n",
              "  </thead>\n",
              "  <tbody>\n",
              "    <tr>\n",
              "      <th>0</th>\n",
              "      <td>0.26</td>\n",
              "      <td>17.0</td>\n",
              "      <td>6.0</td>\n",
              "      <td>4128.0</td>\n",
              "      <td>13.91</td>\n",
              "      <td>16.27</td>\n",
              "      <td>1</td>\n",
              "      <td>1</td>\n",
              "      <td>0</td>\n",
              "      <td>0</td>\n",
              "      <td>1</td>\n",
              "      <td>0</td>\n",
              "      <td>06/07/15</td>\n",
              "      <td>06/03/15</td>\n",
              "      <td>-283.29</td>\n",
              "      <td>1</td>\n",
              "      <td>0</td>\n",
              "      <td>0</td>\n",
              "      <td>0</td>\n",
              "      <td>0</td>\n",
              "      <td>0</td>\n",
              "      <td>0</td>\n",
              "      <td>0</td>\n",
              "      <td>OH</td>\n",
              "    </tr>\n",
              "    <tr>\n",
              "      <th>1</th>\n",
              "      <td>0.28</td>\n",
              "      <td>3.0</td>\n",
              "      <td>3.0</td>\n",
              "      <td>61.0</td>\n",
              "      <td>6.83</td>\n",
              "      <td>15.00</td>\n",
              "      <td>0</td>\n",
              "      <td>0</td>\n",
              "      <td>0</td>\n",
              "      <td>0</td>\n",
              "      <td>1</td>\n",
              "      <td>0</td>\n",
              "      <td>03/06/17</td>\n",
              "      <td>03/05/17</td>\n",
              "      <td>-159.96</td>\n",
              "      <td>1</td>\n",
              "      <td>0</td>\n",
              "      <td>0</td>\n",
              "      <td>0</td>\n",
              "      <td>0</td>\n",
              "      <td>0</td>\n",
              "      <td>1</td>\n",
              "      <td>0</td>\n",
              "      <td>WY</td>\n",
              "    </tr>\n",
              "  </tbody>\n",
              "</table>\n",
              "</div>"
            ],
            "text/plain": [
              "   Artist Reputation  Height  Width  ...  Transport_1  Transport_2  state\n",
              "0               0.26    17.0    6.0  ...            0            0     OH\n",
              "1               0.28     3.0    3.0  ...            1            0     WY\n",
              "\n",
              "[2 rows x 24 columns]"
            ]
          },
          "metadata": {
            "tags": []
          },
          "execution_count": 111
        }
      ]
    },
    {
      "cell_type": "code",
      "metadata": {
        "id": "kFtMBlTf_kDr"
      },
      "source": [
        "encoding = LabelEncoder()\r\n",
        "train_df_processed['state'] = encoding.fit_transform(train_df_processed['state'].astype('str'))\r\n",
        "test_df_processed['state'] = encoding.fit_transform(test_df_processed['state'].astype('str'))"
      ],
      "execution_count": 115,
      "outputs": []
    },
    {
      "cell_type": "markdown",
      "metadata": {
        "id": "1u9HdjTmE1Ij"
      },
      "source": [
        "# ***Preprocessing Date fields***"
      ]
    },
    {
      "cell_type": "code",
      "metadata": {
        "id": "eNVT2OL5-Tix"
      },
      "source": [
        "# Transforming Date fields \r\n",
        "def extracting_datediff(df):\r\n",
        "  df['Scheduled Date'] = pd.to_datetime(df['Scheduled Date'])\r\n",
        "  df['Delivery Date'] = pd.to_datetime(df['Delivery Date'])\r\n",
        "  df['date_diff'] = (df['Scheduled Date'] - df['Delivery Date'])\r\n",
        "  df['date_diff'] = df['date_diff'].astype(str).str.split().str[0]\r\n",
        "  df['date_diff'] = pd.to_numeric(df['date_diff'])\r\n",
        "  df.drop('Scheduled Date', axis=1, inplace=True)\r\n",
        "  return df\r\n"
      ],
      "execution_count": 118,
      "outputs": []
    },
    {
      "cell_type": "code",
      "metadata": {
        "colab": {
          "base_uri": "https://localhost:8080/",
          "height": 199
        },
        "id": "rbO_4U_DByeT",
        "outputId": "3751b5fe-ee6d-4aca-c2b7-57eb72c4a291"
      },
      "source": [
        "train_df_processed = extracting_datediff(train_df_processed)\r\n",
        "train_df_processed.head(2)"
      ],
      "execution_count": 119,
      "outputs": [
        {
          "output_type": "execute_result",
          "data": {
            "text/html": [
              "<div>\n",
              "<style scoped>\n",
              "    .dataframe tbody tr th:only-of-type {\n",
              "        vertical-align: middle;\n",
              "    }\n",
              "\n",
              "    .dataframe tbody tr th {\n",
              "        vertical-align: top;\n",
              "    }\n",
              "\n",
              "    .dataframe thead th {\n",
              "        text-align: right;\n",
              "    }\n",
              "</style>\n",
              "<table border=\"1\" class=\"dataframe\">\n",
              "  <thead>\n",
              "    <tr style=\"text-align: right;\">\n",
              "      <th></th>\n",
              "      <th>Artist Reputation</th>\n",
              "      <th>Height</th>\n",
              "      <th>Width</th>\n",
              "      <th>Weight</th>\n",
              "      <th>Price Of Sculpture</th>\n",
              "      <th>Base Shipping Price</th>\n",
              "      <th>International</th>\n",
              "      <th>Express Shipment</th>\n",
              "      <th>Installation Included</th>\n",
              "      <th>Fragile</th>\n",
              "      <th>Customer Information</th>\n",
              "      <th>Remote Location</th>\n",
              "      <th>Delivery Date</th>\n",
              "      <th>Cost</th>\n",
              "      <th>Material_1</th>\n",
              "      <th>Material_2</th>\n",
              "      <th>Material_3</th>\n",
              "      <th>Material_4</th>\n",
              "      <th>Material_5</th>\n",
              "      <th>Material_6</th>\n",
              "      <th>Transport_1</th>\n",
              "      <th>Transport_2</th>\n",
              "      <th>state</th>\n",
              "      <th>date_diff</th>\n",
              "    </tr>\n",
              "  </thead>\n",
              "  <tbody>\n",
              "    <tr>\n",
              "      <th>0</th>\n",
              "      <td>0.26</td>\n",
              "      <td>17.0</td>\n",
              "      <td>6.0</td>\n",
              "      <td>4128.0</td>\n",
              "      <td>13.91</td>\n",
              "      <td>16.27</td>\n",
              "      <td>1</td>\n",
              "      <td>1</td>\n",
              "      <td>0</td>\n",
              "      <td>0</td>\n",
              "      <td>1</td>\n",
              "      <td>0</td>\n",
              "      <td>2015-06-03</td>\n",
              "      <td>-283.29</td>\n",
              "      <td>1</td>\n",
              "      <td>0</td>\n",
              "      <td>0</td>\n",
              "      <td>0</td>\n",
              "      <td>0</td>\n",
              "      <td>0</td>\n",
              "      <td>0</td>\n",
              "      <td>0</td>\n",
              "      <td>35</td>\n",
              "      <td>4</td>\n",
              "    </tr>\n",
              "    <tr>\n",
              "      <th>1</th>\n",
              "      <td>0.28</td>\n",
              "      <td>3.0</td>\n",
              "      <td>3.0</td>\n",
              "      <td>61.0</td>\n",
              "      <td>6.83</td>\n",
              "      <td>15.00</td>\n",
              "      <td>0</td>\n",
              "      <td>0</td>\n",
              "      <td>0</td>\n",
              "      <td>0</td>\n",
              "      <td>1</td>\n",
              "      <td>0</td>\n",
              "      <td>2017-03-05</td>\n",
              "      <td>-159.96</td>\n",
              "      <td>1</td>\n",
              "      <td>0</td>\n",
              "      <td>0</td>\n",
              "      <td>0</td>\n",
              "      <td>0</td>\n",
              "      <td>0</td>\n",
              "      <td>1</td>\n",
              "      <td>0</td>\n",
              "      <td>50</td>\n",
              "      <td>1</td>\n",
              "    </tr>\n",
              "  </tbody>\n",
              "</table>\n",
              "</div>"
            ],
            "text/plain": [
              "   Artist Reputation  Height  Width  ...  Transport_2  state  date_diff\n",
              "0               0.26    17.0    6.0  ...            0     35          4\n",
              "1               0.28     3.0    3.0  ...            0     50          1\n",
              "\n",
              "[2 rows x 24 columns]"
            ]
          },
          "metadata": {
            "tags": []
          },
          "execution_count": 119
        }
      ]
    },
    {
      "cell_type": "code",
      "metadata": {
        "colab": {
          "base_uri": "https://localhost:8080/",
          "height": 199
        },
        "id": "ILJnvJnkB81R",
        "outputId": "3143567b-a78c-4887-c614-f1c2d3ce6642"
      },
      "source": [
        "test_df_processed = extracting_datediff(test_df_processed)\r\n",
        "test_df_processed.head(2)"
      ],
      "execution_count": 120,
      "outputs": [
        {
          "output_type": "execute_result",
          "data": {
            "text/html": [
              "<div>\n",
              "<style scoped>\n",
              "    .dataframe tbody tr th:only-of-type {\n",
              "        vertical-align: middle;\n",
              "    }\n",
              "\n",
              "    .dataframe tbody tr th {\n",
              "        vertical-align: top;\n",
              "    }\n",
              "\n",
              "    .dataframe thead th {\n",
              "        text-align: right;\n",
              "    }\n",
              "</style>\n",
              "<table border=\"1\" class=\"dataframe\">\n",
              "  <thead>\n",
              "    <tr style=\"text-align: right;\">\n",
              "      <th></th>\n",
              "      <th>Artist Reputation</th>\n",
              "      <th>Height</th>\n",
              "      <th>Width</th>\n",
              "      <th>Weight</th>\n",
              "      <th>Price Of Sculpture</th>\n",
              "      <th>Base Shipping Price</th>\n",
              "      <th>International</th>\n",
              "      <th>Express Shipment</th>\n",
              "      <th>Installation Included</th>\n",
              "      <th>Fragile</th>\n",
              "      <th>Customer Information</th>\n",
              "      <th>Remote Location</th>\n",
              "      <th>Delivery Date</th>\n",
              "      <th>Material_1</th>\n",
              "      <th>Material_2</th>\n",
              "      <th>Material_3</th>\n",
              "      <th>Material_4</th>\n",
              "      <th>Material_5</th>\n",
              "      <th>Material_6</th>\n",
              "      <th>Transport_1</th>\n",
              "      <th>Transport_2</th>\n",
              "      <th>state</th>\n",
              "      <th>date_diff</th>\n",
              "    </tr>\n",
              "  </thead>\n",
              "  <tbody>\n",
              "    <tr>\n",
              "      <th>0</th>\n",
              "      <td>0.35</td>\n",
              "      <td>53.0</td>\n",
              "      <td>18.0</td>\n",
              "      <td>871.0</td>\n",
              "      <td>5.98</td>\n",
              "      <td>19.11</td>\n",
              "      <td>1</td>\n",
              "      <td>1</td>\n",
              "      <td>0</td>\n",
              "      <td>0</td>\n",
              "      <td>1</td>\n",
              "      <td>0</td>\n",
              "      <td>2017-07-06</td>\n",
              "      <td>0</td>\n",
              "      <td>0</td>\n",
              "      <td>0</td>\n",
              "      <td>0</td>\n",
              "      <td>0</td>\n",
              "      <td>1</td>\n",
              "      <td>0</td>\n",
              "      <td>0</td>\n",
              "      <td>12</td>\n",
              "      <td>-3</td>\n",
              "    </tr>\n",
              "    <tr>\n",
              "      <th>1</th>\n",
              "      <td>0.67</td>\n",
              "      <td>7.0</td>\n",
              "      <td>4.0</td>\n",
              "      <td>108.0</td>\n",
              "      <td>6.92</td>\n",
              "      <td>13.96</td>\n",
              "      <td>0</td>\n",
              "      <td>0</td>\n",
              "      <td>0</td>\n",
              "      <td>1</td>\n",
              "      <td>1</td>\n",
              "      <td>0</td>\n",
              "      <td>2016-05-02</td>\n",
              "      <td>0</td>\n",
              "      <td>0</td>\n",
              "      <td>1</td>\n",
              "      <td>0</td>\n",
              "      <td>0</td>\n",
              "      <td>0</td>\n",
              "      <td>1</td>\n",
              "      <td>0</td>\n",
              "      <td>35</td>\n",
              "      <td>0</td>\n",
              "    </tr>\n",
              "  </tbody>\n",
              "</table>\n",
              "</div>"
            ],
            "text/plain": [
              "   Artist Reputation  Height  Width  ...  Transport_2  state  date_diff\n",
              "0               0.35    53.0   18.0  ...            0     12         -3\n",
              "1               0.67     7.0    4.0  ...            0     35          0\n",
              "\n",
              "[2 rows x 23 columns]"
            ]
          },
          "metadata": {
            "tags": []
          },
          "execution_count": 120
        }
      ]
    },
    {
      "cell_type": "code",
      "metadata": {
        "id": "K1O9TWTgDX1s"
      },
      "source": [
        "# Extracting values from date fields \r\n",
        "def extract_date(df):\r\n",
        "  df['dt_day'] = df['Delivery Date'].dt.day\r\n",
        "  df['dt_month'] = df['Delivery Date'].dt.month\r\n",
        "  df['dt_year'] = df['Delivery Date'].dt.year\r\n",
        "  df['dt_weekday'] = df['Delivery Date'].dt.dayofweek\r\n",
        "  df.drop('Delivery Date', axis=1, inplace=True)\r\n",
        "  return df"
      ],
      "execution_count": 124,
      "outputs": []
    },
    {
      "cell_type": "code",
      "metadata": {
        "colab": {
          "base_uri": "https://localhost:8080/",
          "height": 165
        },
        "id": "RQR4rfyKDwOj",
        "outputId": "149cba9a-4089-494b-d280-ba3f2fa4a483"
      },
      "source": [
        "train_df_processed = extract_date(train_df_processed)\r\n",
        "train_df_processed.head(2)"
      ],
      "execution_count": 125,
      "outputs": [
        {
          "output_type": "execute_result",
          "data": {
            "text/html": [
              "<div>\n",
              "<style scoped>\n",
              "    .dataframe tbody tr th:only-of-type {\n",
              "        vertical-align: middle;\n",
              "    }\n",
              "\n",
              "    .dataframe tbody tr th {\n",
              "        vertical-align: top;\n",
              "    }\n",
              "\n",
              "    .dataframe thead th {\n",
              "        text-align: right;\n",
              "    }\n",
              "</style>\n",
              "<table border=\"1\" class=\"dataframe\">\n",
              "  <thead>\n",
              "    <tr style=\"text-align: right;\">\n",
              "      <th></th>\n",
              "      <th>Artist Reputation</th>\n",
              "      <th>Height</th>\n",
              "      <th>Width</th>\n",
              "      <th>Weight</th>\n",
              "      <th>Price Of Sculpture</th>\n",
              "      <th>Base Shipping Price</th>\n",
              "      <th>International</th>\n",
              "      <th>Express Shipment</th>\n",
              "      <th>Installation Included</th>\n",
              "      <th>Fragile</th>\n",
              "      <th>Customer Information</th>\n",
              "      <th>Remote Location</th>\n",
              "      <th>Cost</th>\n",
              "      <th>Material_1</th>\n",
              "      <th>Material_2</th>\n",
              "      <th>Material_3</th>\n",
              "      <th>Material_4</th>\n",
              "      <th>Material_5</th>\n",
              "      <th>Material_6</th>\n",
              "      <th>Transport_1</th>\n",
              "      <th>Transport_2</th>\n",
              "      <th>state</th>\n",
              "      <th>date_diff</th>\n",
              "      <th>dt_day</th>\n",
              "      <th>dt_month</th>\n",
              "      <th>dt_year</th>\n",
              "      <th>dt_weekday</th>\n",
              "    </tr>\n",
              "  </thead>\n",
              "  <tbody>\n",
              "    <tr>\n",
              "      <th>0</th>\n",
              "      <td>0.26</td>\n",
              "      <td>17.0</td>\n",
              "      <td>6.0</td>\n",
              "      <td>4128.0</td>\n",
              "      <td>13.91</td>\n",
              "      <td>16.27</td>\n",
              "      <td>1</td>\n",
              "      <td>1</td>\n",
              "      <td>0</td>\n",
              "      <td>0</td>\n",
              "      <td>1</td>\n",
              "      <td>0</td>\n",
              "      <td>-283.29</td>\n",
              "      <td>1</td>\n",
              "      <td>0</td>\n",
              "      <td>0</td>\n",
              "      <td>0</td>\n",
              "      <td>0</td>\n",
              "      <td>0</td>\n",
              "      <td>0</td>\n",
              "      <td>0</td>\n",
              "      <td>35</td>\n",
              "      <td>4</td>\n",
              "      <td>3</td>\n",
              "      <td>6</td>\n",
              "      <td>2015</td>\n",
              "      <td>2</td>\n",
              "    </tr>\n",
              "    <tr>\n",
              "      <th>1</th>\n",
              "      <td>0.28</td>\n",
              "      <td>3.0</td>\n",
              "      <td>3.0</td>\n",
              "      <td>61.0</td>\n",
              "      <td>6.83</td>\n",
              "      <td>15.00</td>\n",
              "      <td>0</td>\n",
              "      <td>0</td>\n",
              "      <td>0</td>\n",
              "      <td>0</td>\n",
              "      <td>1</td>\n",
              "      <td>0</td>\n",
              "      <td>-159.96</td>\n",
              "      <td>1</td>\n",
              "      <td>0</td>\n",
              "      <td>0</td>\n",
              "      <td>0</td>\n",
              "      <td>0</td>\n",
              "      <td>0</td>\n",
              "      <td>1</td>\n",
              "      <td>0</td>\n",
              "      <td>50</td>\n",
              "      <td>1</td>\n",
              "      <td>5</td>\n",
              "      <td>3</td>\n",
              "      <td>2017</td>\n",
              "      <td>6</td>\n",
              "    </tr>\n",
              "  </tbody>\n",
              "</table>\n",
              "</div>"
            ],
            "text/plain": [
              "   Artist Reputation  Height  Width  ...  dt_month  dt_year  dt_weekday\n",
              "0               0.26    17.0    6.0  ...         6     2015           2\n",
              "1               0.28     3.0    3.0  ...         3     2017           6\n",
              "\n",
              "[2 rows x 27 columns]"
            ]
          },
          "metadata": {
            "tags": []
          },
          "execution_count": 125
        }
      ]
    },
    {
      "cell_type": "code",
      "metadata": {
        "colab": {
          "base_uri": "https://localhost:8080/",
          "height": 165
        },
        "id": "t240OM3uD9aE",
        "outputId": "29211fdd-499d-490e-b252-659957d091e3"
      },
      "source": [
        "test_df_processed = extract_date(test_df_processed)\r\n",
        "test_df_processed.head(2)"
      ],
      "execution_count": 126,
      "outputs": [
        {
          "output_type": "execute_result",
          "data": {
            "text/html": [
              "<div>\n",
              "<style scoped>\n",
              "    .dataframe tbody tr th:only-of-type {\n",
              "        vertical-align: middle;\n",
              "    }\n",
              "\n",
              "    .dataframe tbody tr th {\n",
              "        vertical-align: top;\n",
              "    }\n",
              "\n",
              "    .dataframe thead th {\n",
              "        text-align: right;\n",
              "    }\n",
              "</style>\n",
              "<table border=\"1\" class=\"dataframe\">\n",
              "  <thead>\n",
              "    <tr style=\"text-align: right;\">\n",
              "      <th></th>\n",
              "      <th>Artist Reputation</th>\n",
              "      <th>Height</th>\n",
              "      <th>Width</th>\n",
              "      <th>Weight</th>\n",
              "      <th>Price Of Sculpture</th>\n",
              "      <th>Base Shipping Price</th>\n",
              "      <th>International</th>\n",
              "      <th>Express Shipment</th>\n",
              "      <th>Installation Included</th>\n",
              "      <th>Fragile</th>\n",
              "      <th>Customer Information</th>\n",
              "      <th>Remote Location</th>\n",
              "      <th>Material_1</th>\n",
              "      <th>Material_2</th>\n",
              "      <th>Material_3</th>\n",
              "      <th>Material_4</th>\n",
              "      <th>Material_5</th>\n",
              "      <th>Material_6</th>\n",
              "      <th>Transport_1</th>\n",
              "      <th>Transport_2</th>\n",
              "      <th>state</th>\n",
              "      <th>date_diff</th>\n",
              "      <th>dt_day</th>\n",
              "      <th>dt_month</th>\n",
              "      <th>dt_year</th>\n",
              "      <th>dt_weekday</th>\n",
              "    </tr>\n",
              "  </thead>\n",
              "  <tbody>\n",
              "    <tr>\n",
              "      <th>0</th>\n",
              "      <td>0.35</td>\n",
              "      <td>53.0</td>\n",
              "      <td>18.0</td>\n",
              "      <td>871.0</td>\n",
              "      <td>5.98</td>\n",
              "      <td>19.11</td>\n",
              "      <td>1</td>\n",
              "      <td>1</td>\n",
              "      <td>0</td>\n",
              "      <td>0</td>\n",
              "      <td>1</td>\n",
              "      <td>0</td>\n",
              "      <td>0</td>\n",
              "      <td>0</td>\n",
              "      <td>0</td>\n",
              "      <td>0</td>\n",
              "      <td>0</td>\n",
              "      <td>1</td>\n",
              "      <td>0</td>\n",
              "      <td>0</td>\n",
              "      <td>12</td>\n",
              "      <td>-3</td>\n",
              "      <td>6</td>\n",
              "      <td>7</td>\n",
              "      <td>2017</td>\n",
              "      <td>3</td>\n",
              "    </tr>\n",
              "    <tr>\n",
              "      <th>1</th>\n",
              "      <td>0.67</td>\n",
              "      <td>7.0</td>\n",
              "      <td>4.0</td>\n",
              "      <td>108.0</td>\n",
              "      <td>6.92</td>\n",
              "      <td>13.96</td>\n",
              "      <td>0</td>\n",
              "      <td>0</td>\n",
              "      <td>0</td>\n",
              "      <td>1</td>\n",
              "      <td>1</td>\n",
              "      <td>0</td>\n",
              "      <td>0</td>\n",
              "      <td>0</td>\n",
              "      <td>1</td>\n",
              "      <td>0</td>\n",
              "      <td>0</td>\n",
              "      <td>0</td>\n",
              "      <td>1</td>\n",
              "      <td>0</td>\n",
              "      <td>35</td>\n",
              "      <td>0</td>\n",
              "      <td>2</td>\n",
              "      <td>5</td>\n",
              "      <td>2016</td>\n",
              "      <td>0</td>\n",
              "    </tr>\n",
              "  </tbody>\n",
              "</table>\n",
              "</div>"
            ],
            "text/plain": [
              "   Artist Reputation  Height  Width  ...  dt_month  dt_year  dt_weekday\n",
              "0               0.35    53.0   18.0  ...         7     2017           3\n",
              "1               0.67     7.0    4.0  ...         5     2016           0\n",
              "\n",
              "[2 rows x 26 columns]"
            ]
          },
          "metadata": {
            "tags": []
          },
          "execution_count": 126
        }
      ]
    },
    {
      "cell_type": "markdown",
      "metadata": {
        "id": "eOWdU6skE5RV"
      },
      "source": [
        "# **Initialializing Target and Features**"
      ]
    },
    {
      "cell_type": "code",
      "metadata": {
        "colab": {
          "base_uri": "https://localhost:8080/"
        },
        "id": "ISnnukmhFC2j",
        "outputId": "40416c8c-47e4-45e0-d44b-6f4f13ca275b"
      },
      "source": [
        "X = train_df_processed.drop('Cost', axis=1)\r\n",
        "Y = train_df_processed['Cost']\r\n",
        "Y.head()"
      ],
      "execution_count": 141,
      "outputs": [
        {
          "output_type": "execute_result",
          "data": {
            "text/plain": [
              "0   -283.29\n",
              "1   -159.96\n",
              "2   -154.29\n",
              "3   -161.16\n",
              "4   -159.23\n",
              "Name: Cost, dtype: float64"
            ]
          },
          "metadata": {
            "tags": []
          },
          "execution_count": 141
        }
      ]
    },
    {
      "cell_type": "code",
      "metadata": {
        "id": "gr3QEuuCGsgU"
      },
      "source": [
        "def log1p(target):\r\n",
        "  return np.log1p(abs(target))\r\n",
        "\r\n",
        "def expm1(x):\r\n",
        "  return np.expm1(x)\r\n",
        "\r\n",
        "def clipExp(vec):\r\n",
        "    return np.clip(expm1(vec), 0, None)"
      ],
      "execution_count": 139,
      "outputs": []
    },
    {
      "cell_type": "code",
      "metadata": {
        "colab": {
          "base_uri": "https://localhost:8080/"
        },
        "id": "MspSnfroHWwN",
        "outputId": "69f222bc-da79-4fc8-8af3-47957c4428d6"
      },
      "source": [
        "# Applying log on target feature with abs as it has many negative values\r\n",
        "Y_log = Y.apply(log1p)\r\n",
        "Y_log.min()"
      ],
      "execution_count": 143,
      "outputs": [
        {
          "output_type": "execute_result",
          "data": {
            "text/plain": [
              "4.466712392840524"
            ]
          },
          "metadata": {
            "tags": []
          },
          "execution_count": 143
        }
      ]
    },
    {
      "cell_type": "markdown",
      "metadata": {
        "id": "g5LGlKlCFXTi"
      },
      "source": [
        "# **Splitting Training and validation dataset**"
      ]
    },
    {
      "cell_type": "code",
      "metadata": {
        "colab": {
          "base_uri": "https://localhost:8080/"
        },
        "id": "a2H73bZwFVOQ",
        "outputId": "e9667c47-d71c-4264-ea2c-25a99fcec466"
      },
      "source": [
        "x_train, x_valid , y_train, y_valid = train_test_split(X,Y_log, test_size=0.2, random_state=42)\r\n",
        "x_train.shape, y_train.shape,x_valid.shape, y_valid.shape"
      ],
      "execution_count": 144,
      "outputs": [
        {
          "output_type": "execute_result",
          "data": {
            "text/plain": [
              "((5200, 26), (5200,), (1300, 26), (1300,))"
            ]
          },
          "metadata": {
            "tags": []
          },
          "execution_count": 144
        }
      ]
    },
    {
      "cell_type": "markdown",
      "metadata": {
        "id": "qhS_Kp6DIYif"
      },
      "source": [
        "# **Feature Scaling**"
      ]
    },
    {
      "cell_type": "code",
      "metadata": {
        "id": "gP6_hznpEQP4"
      },
      "source": [
        "scaler = MinMaxScaler()\r\n",
        "\r\n",
        "# Apply scaler to train_variables\r\n",
        "x_train_scaled = pd.DataFrame(scaler.fit_transform(x_train), columns=x_train.columns)\r\n",
        "\r\n",
        "# Apply scaler to test_variables\r\n",
        "x_valid_scaled = pd.DataFrame(scaler.transform(x_valid), columns=x_valid.columns)"
      ],
      "execution_count": 148,
      "outputs": []
    },
    {
      "cell_type": "code",
      "metadata": {
        "colab": {
          "base_uri": "https://localhost:8080/",
          "height": 351
        },
        "id": "29TOVaPVJZkC",
        "outputId": "e8b25a57-1e8c-472d-8af8-2d26059a9790"
      },
      "source": [
        "x_train_scaled.describe()"
      ],
      "execution_count": 149,
      "outputs": [
        {
          "output_type": "execute_result",
          "data": {
            "text/html": [
              "<div>\n",
              "<style scoped>\n",
              "    .dataframe tbody tr th:only-of-type {\n",
              "        vertical-align: middle;\n",
              "    }\n",
              "\n",
              "    .dataframe tbody tr th {\n",
              "        vertical-align: top;\n",
              "    }\n",
              "\n",
              "    .dataframe thead th {\n",
              "        text-align: right;\n",
              "    }\n",
              "</style>\n",
              "<table border=\"1\" class=\"dataframe\">\n",
              "  <thead>\n",
              "    <tr style=\"text-align: right;\">\n",
              "      <th></th>\n",
              "      <th>Artist Reputation</th>\n",
              "      <th>Height</th>\n",
              "      <th>Width</th>\n",
              "      <th>Weight</th>\n",
              "      <th>Price Of Sculpture</th>\n",
              "      <th>Base Shipping Price</th>\n",
              "      <th>International</th>\n",
              "      <th>Express Shipment</th>\n",
              "      <th>Installation Included</th>\n",
              "      <th>Fragile</th>\n",
              "      <th>Customer Information</th>\n",
              "      <th>Remote Location</th>\n",
              "      <th>Material_1</th>\n",
              "      <th>Material_2</th>\n",
              "      <th>Material_3</th>\n",
              "      <th>Material_4</th>\n",
              "      <th>Material_5</th>\n",
              "      <th>Material_6</th>\n",
              "      <th>Transport_1</th>\n",
              "      <th>Transport_2</th>\n",
              "      <th>state</th>\n",
              "      <th>date_diff</th>\n",
              "      <th>dt_day</th>\n",
              "      <th>dt_month</th>\n",
              "      <th>dt_year</th>\n",
              "      <th>dt_weekday</th>\n",
              "    </tr>\n",
              "  </thead>\n",
              "  <tbody>\n",
              "    <tr>\n",
              "      <th>count</th>\n",
              "      <td>5200.000000</td>\n",
              "      <td>5200.000000</td>\n",
              "      <td>5200.000000</td>\n",
              "      <td>5200.000000</td>\n",
              "      <td>5200.000000</td>\n",
              "      <td>5200.000000</td>\n",
              "      <td>5200.000000</td>\n",
              "      <td>5200.000000</td>\n",
              "      <td>5200.000000</td>\n",
              "      <td>5200.000000</td>\n",
              "      <td>5200.000000</td>\n",
              "      <td>5200.000000</td>\n",
              "      <td>5200.000000</td>\n",
              "      <td>5200.000000</td>\n",
              "      <td>5200.000000</td>\n",
              "      <td>5200.000000</td>\n",
              "      <td>5200.000000</td>\n",
              "      <td>5200.000000</td>\n",
              "      <td>5200.000000</td>\n",
              "      <td>5200.000000</td>\n",
              "      <td>5200.000000</td>\n",
              "      <td>5200.000000</td>\n",
              "      <td>5200.000000</td>\n",
              "      <td>5200.000000</td>\n",
              "      <td>5200.000000</td>\n",
              "      <td>5200.000000</td>\n",
              "    </tr>\n",
              "    <tr>\n",
              "      <th>mean</th>\n",
              "      <td>0.460362</td>\n",
              "      <td>0.267876</td>\n",
              "      <td>0.155709</td>\n",
              "      <td>0.003065</td>\n",
              "      <td>0.003024</td>\n",
              "      <td>0.307039</td>\n",
              "      <td>0.339038</td>\n",
              "      <td>0.335385</td>\n",
              "      <td>0.395577</td>\n",
              "      <td>0.160385</td>\n",
              "      <td>0.731154</td>\n",
              "      <td>0.175577</td>\n",
              "      <td>0.245000</td>\n",
              "      <td>0.128077</td>\n",
              "      <td>0.126154</td>\n",
              "      <td>0.127500</td>\n",
              "      <td>0.117692</td>\n",
              "      <td>0.125192</td>\n",
              "      <td>0.532692</td>\n",
              "      <td>0.188269</td>\n",
              "      <td>0.541199</td>\n",
              "      <td>0.506635</td>\n",
              "      <td>0.483968</td>\n",
              "      <td>0.474213</td>\n",
              "      <td>0.459423</td>\n",
              "      <td>0.498942</td>\n",
              "    </tr>\n",
              "    <tr>\n",
              "      <th>std</th>\n",
              "      <td>0.249721</td>\n",
              "      <td>0.167413</td>\n",
              "      <td>0.108171</td>\n",
              "      <td>0.021938</td>\n",
              "      <td>0.022607</td>\n",
              "      <td>0.299780</td>\n",
              "      <td>0.473428</td>\n",
              "      <td>0.472170</td>\n",
              "      <td>0.489021</td>\n",
              "      <td>0.366998</td>\n",
              "      <td>0.443402</td>\n",
              "      <td>0.380496</td>\n",
              "      <td>0.430129</td>\n",
              "      <td>0.334208</td>\n",
              "      <td>0.332055</td>\n",
              "      <td>0.333564</td>\n",
              "      <td>0.322274</td>\n",
              "      <td>0.330969</td>\n",
              "      <td>0.498978</td>\n",
              "      <td>0.390965</td>\n",
              "      <td>0.316168</td>\n",
              "      <td>0.305377</td>\n",
              "      <td>0.292494</td>\n",
              "      <td>0.307392</td>\n",
              "      <td>0.337640</td>\n",
              "      <td>0.332521</td>\n",
              "    </tr>\n",
              "    <tr>\n",
              "      <th>min</th>\n",
              "      <td>0.000000</td>\n",
              "      <td>0.000000</td>\n",
              "      <td>0.000000</td>\n",
              "      <td>0.000000</td>\n",
              "      <td>0.000000</td>\n",
              "      <td>0.000000</td>\n",
              "      <td>0.000000</td>\n",
              "      <td>0.000000</td>\n",
              "      <td>0.000000</td>\n",
              "      <td>0.000000</td>\n",
              "      <td>0.000000</td>\n",
              "      <td>0.000000</td>\n",
              "      <td>0.000000</td>\n",
              "      <td>0.000000</td>\n",
              "      <td>0.000000</td>\n",
              "      <td>0.000000</td>\n",
              "      <td>0.000000</td>\n",
              "      <td>0.000000</td>\n",
              "      <td>0.000000</td>\n",
              "      <td>0.000000</td>\n",
              "      <td>0.000000</td>\n",
              "      <td>0.000000</td>\n",
              "      <td>0.000000</td>\n",
              "      <td>0.000000</td>\n",
              "      <td>0.000000</td>\n",
              "      <td>0.000000</td>\n",
              "    </tr>\n",
              "    <tr>\n",
              "      <th>25%</th>\n",
              "      <td>0.270000</td>\n",
              "      <td>0.142857</td>\n",
              "      <td>0.083333</td>\n",
              "      <td>0.000005</td>\n",
              "      <td>0.000006</td>\n",
              "      <td>0.074989</td>\n",
              "      <td>0.000000</td>\n",
              "      <td>0.000000</td>\n",
              "      <td>0.000000</td>\n",
              "      <td>0.000000</td>\n",
              "      <td>0.000000</td>\n",
              "      <td>0.000000</td>\n",
              "      <td>0.000000</td>\n",
              "      <td>0.000000</td>\n",
              "      <td>0.000000</td>\n",
              "      <td>0.000000</td>\n",
              "      <td>0.000000</td>\n",
              "      <td>0.000000</td>\n",
              "      <td>0.000000</td>\n",
              "      <td>0.000000</td>\n",
              "      <td>0.274510</td>\n",
              "      <td>0.250000</td>\n",
              "      <td>0.233333</td>\n",
              "      <td>0.181818</td>\n",
              "      <td>0.250000</td>\n",
              "      <td>0.166667</td>\n",
              "    </tr>\n",
              "    <tr>\n",
              "      <th>50%</th>\n",
              "      <td>0.450000</td>\n",
              "      <td>0.242857</td>\n",
              "      <td>0.125000</td>\n",
              "      <td>0.000026</td>\n",
              "      <td>0.000014</td>\n",
              "      <td>0.150256</td>\n",
              "      <td>0.000000</td>\n",
              "      <td>0.000000</td>\n",
              "      <td>0.000000</td>\n",
              "      <td>0.000000</td>\n",
              "      <td>1.000000</td>\n",
              "      <td>0.000000</td>\n",
              "      <td>0.000000</td>\n",
              "      <td>0.000000</td>\n",
              "      <td>0.000000</td>\n",
              "      <td>0.000000</td>\n",
              "      <td>0.000000</td>\n",
              "      <td>0.000000</td>\n",
              "      <td>1.000000</td>\n",
              "      <td>0.000000</td>\n",
              "      <td>0.549020</td>\n",
              "      <td>0.500000</td>\n",
              "      <td>0.466667</td>\n",
              "      <td>0.454545</td>\n",
              "      <td>0.500000</td>\n",
              "      <td>0.500000</td>\n",
              "    </tr>\n",
              "    <tr>\n",
              "      <th>75%</th>\n",
              "      <td>0.640000</td>\n",
              "      <td>0.371429</td>\n",
              "      <td>0.187500</td>\n",
              "      <td>0.000226</td>\n",
              "      <td>0.000232</td>\n",
              "      <td>0.538342</td>\n",
              "      <td>1.000000</td>\n",
              "      <td>1.000000</td>\n",
              "      <td>1.000000</td>\n",
              "      <td>0.000000</td>\n",
              "      <td>1.000000</td>\n",
              "      <td>0.000000</td>\n",
              "      <td>0.000000</td>\n",
              "      <td>0.000000</td>\n",
              "      <td>0.000000</td>\n",
              "      <td>0.000000</td>\n",
              "      <td>0.000000</td>\n",
              "      <td>0.000000</td>\n",
              "      <td>1.000000</td>\n",
              "      <td>0.000000</td>\n",
              "      <td>0.823529</td>\n",
              "      <td>0.750000</td>\n",
              "      <td>0.733333</td>\n",
              "      <td>0.727273</td>\n",
              "      <td>0.750000</td>\n",
              "      <td>0.833333</td>\n",
              "    </tr>\n",
              "    <tr>\n",
              "      <th>max</th>\n",
              "      <td>1.000000</td>\n",
              "      <td>1.000000</td>\n",
              "      <td>1.000000</td>\n",
              "      <td>1.000000</td>\n",
              "      <td>1.000000</td>\n",
              "      <td>1.000000</td>\n",
              "      <td>1.000000</td>\n",
              "      <td>1.000000</td>\n",
              "      <td>1.000000</td>\n",
              "      <td>1.000000</td>\n",
              "      <td>1.000000</td>\n",
              "      <td>1.000000</td>\n",
              "      <td>1.000000</td>\n",
              "      <td>1.000000</td>\n",
              "      <td>1.000000</td>\n",
              "      <td>1.000000</td>\n",
              "      <td>1.000000</td>\n",
              "      <td>1.000000</td>\n",
              "      <td>1.000000</td>\n",
              "      <td>1.000000</td>\n",
              "      <td>1.000000</td>\n",
              "      <td>1.000000</td>\n",
              "      <td>1.000000</td>\n",
              "      <td>1.000000</td>\n",
              "      <td>1.000000</td>\n",
              "      <td>1.000000</td>\n",
              "    </tr>\n",
              "  </tbody>\n",
              "</table>\n",
              "</div>"
            ],
            "text/plain": [
              "       Artist Reputation       Height  ...      dt_year   dt_weekday\n",
              "count        5200.000000  5200.000000  ...  5200.000000  5200.000000\n",
              "mean            0.460362     0.267876  ...     0.459423     0.498942\n",
              "std             0.249721     0.167413  ...     0.337640     0.332521\n",
              "min             0.000000     0.000000  ...     0.000000     0.000000\n",
              "25%             0.270000     0.142857  ...     0.250000     0.166667\n",
              "50%             0.450000     0.242857  ...     0.500000     0.500000\n",
              "75%             0.640000     0.371429  ...     0.750000     0.833333\n",
              "max             1.000000     1.000000  ...     1.000000     1.000000\n",
              "\n",
              "[8 rows x 26 columns]"
            ]
          },
          "metadata": {
            "tags": []
          },
          "execution_count": 149
        }
      ]
    },
    {
      "cell_type": "markdown",
      "metadata": {
        "id": "lEFapWCeJrCh"
      },
      "source": [
        "# **Building Model**"
      ]
    },
    {
      "cell_type": "code",
      "metadata": {
        "id": "pK6mGq4MJeD8"
      },
      "source": [
        "# rf_model = RandomForestRegressor(n_estimators=1000, )\r\n",
        "param_test1 = {\r\n",
        "    'n_estimators' : [10,50, 100, 500, 1000],\r\n",
        "    'max_depth' : np.arange(2,12, 2)\r\n",
        "}\r\n",
        "rf_cv1 = GridSearchCV(estimator=RandomForestRegressor(criterion='mse', random_state=1), param_grid=param_test1, verbose=2, scoring='neg_mean_squared_error', cv=5, return_train_score=True)\r\n",
        "rf_cv1.fit(x_train_scaled, y_train)\r\n"
      ],
      "execution_count": null,
      "outputs": []
    },
    {
      "cell_type": "code",
      "metadata": {
        "colab": {
          "base_uri": "https://localhost:8080/"
        },
        "id": "ycmIgk5KQuxh",
        "outputId": "06e3b3e1-84cc-482e-bf13-e6da2abc589d"
      },
      "source": [
        "print( \"Best parameters: \", rf_cv1.best_params_ , \"Best Score:\",  rf_cv1.best_score_)"
      ],
      "execution_count": 156,
      "outputs": [
        {
          "output_type": "stream",
          "text": [
            "Best parameters:  {'max_depth': 10, 'n_estimators': 1000} Best Score: -0.12043547926768809\n"
          ],
          "name": "stdout"
        }
      ]
    },
    {
      "cell_type": "code",
      "metadata": {
        "colab": {
          "base_uri": "https://localhost:8080/"
        },
        "id": "gwMAhAu-SpwY",
        "outputId": "2009923a-3e72-4697-9936-e44a8e9385d8"
      },
      "source": [
        "params_grid2 = {\r\n",
        "    'min_samples_split' : np.arange(2,12,3),\r\n",
        "    'min_samples_leaf' : np.arange(1,10,3)\r\n",
        "}\r\n",
        "\r\n",
        "rf_cv2 = GridSearchCV(estimator=RandomForestRegressor(criterion='mse', n_estimators=1000, max_depth=10), param_grid = params_grid2, cv =5, verbose=1, scoring='neg_mean_squared_error', n_jobs=-1)\r\n",
        "rf_cv2.fit(x_train_scaled, y_train)"
      ],
      "execution_count": 158,
      "outputs": [
        {
          "output_type": "stream",
          "text": [
            "Fitting 5 folds for each of 12 candidates, totalling 60 fits\n"
          ],
          "name": "stdout"
        },
        {
          "output_type": "stream",
          "text": [
            "[Parallel(n_jobs=-1)]: Using backend LokyBackend with 2 concurrent workers.\n",
            "[Parallel(n_jobs=-1)]: Done  46 tasks      | elapsed: 10.9min\n",
            "[Parallel(n_jobs=-1)]: Done  60 out of  60 | elapsed: 14.0min finished\n"
          ],
          "name": "stderr"
        },
        {
          "output_type": "execute_result",
          "data": {
            "text/plain": [
              "GridSearchCV(cv=5, error_score=nan,\n",
              "             estimator=RandomForestRegressor(bootstrap=True, ccp_alpha=0.0,\n",
              "                                             criterion='mse', max_depth=10,\n",
              "                                             max_features='auto',\n",
              "                                             max_leaf_nodes=None,\n",
              "                                             max_samples=None,\n",
              "                                             min_impurity_decrease=0.0,\n",
              "                                             min_impurity_split=None,\n",
              "                                             min_samples_leaf=1,\n",
              "                                             min_samples_split=2,\n",
              "                                             min_weight_fraction_leaf=0.0,\n",
              "                                             n_estimators=1000, n_jobs=None,\n",
              "                                             oob_score=False, random_state=None,\n",
              "                                             verbose=0, warm_start=False),\n",
              "             iid='deprecated', n_jobs=-1,\n",
              "             param_grid={'min_samples_leaf': array([1, 4, 7]),\n",
              "                         'min_samples_split': array([ 2,  5,  8, 11])},\n",
              "             pre_dispatch='2*n_jobs', refit=True, return_train_score=False,\n",
              "             scoring='neg_mean_squared_error', verbose=1)"
            ]
          },
          "metadata": {
            "tags": []
          },
          "execution_count": 158
        }
      ]
    },
    {
      "cell_type": "code",
      "metadata": {
        "colab": {
          "base_uri": "https://localhost:8080/"
        },
        "id": "NPODOWISVhzP",
        "outputId": "ca31ce95-82fd-40d7-c8e3-0c73d4701984"
      },
      "source": [
        "print( \"Best parameters: \", rf_cv2.best_params_ , \"Best Score:\",  rf_cv2.best_score_)"
      ],
      "execution_count": 159,
      "outputs": [
        {
          "output_type": "stream",
          "text": [
            "Best parameters:  {'min_samples_leaf': 4, 'min_samples_split': 8} Best Score: -0.12003589918039181\n"
          ],
          "name": "stdout"
        }
      ]
    },
    {
      "cell_type": "code",
      "metadata": {
        "colab": {
          "base_uri": "https://localhost:8080/"
        },
        "id": "g1_rG5yiV4j8",
        "outputId": "d885de59-6495-46d7-aa5b-8c054e14f121"
      },
      "source": [
        "rf_model = RandomForestRegressor(n_estimators=1000, max_depth=10, min_samples_split= 8 , min_samples_leaf=4)\r\n",
        "rf_model.fit(x_train_scaled, y_train)  "
      ],
      "execution_count": 160,
      "outputs": [
        {
          "output_type": "execute_result",
          "data": {
            "text/plain": [
              "RandomForestRegressor(bootstrap=True, ccp_alpha=0.0, criterion='mse',\n",
              "                      max_depth=10, max_features='auto', max_leaf_nodes=None,\n",
              "                      max_samples=None, min_impurity_decrease=0.0,\n",
              "                      min_impurity_split=None, min_samples_leaf=4,\n",
              "                      min_samples_split=8, min_weight_fraction_leaf=0.0,\n",
              "                      n_estimators=1000, n_jobs=None, oob_score=False,\n",
              "                      random_state=None, verbose=0, warm_start=False)"
            ]
          },
          "metadata": {
            "tags": []
          },
          "execution_count": 160
        }
      ]
    },
    {
      "cell_type": "code",
      "metadata": {
        "colab": {
          "base_uri": "https://localhost:8080/"
        },
        "id": "Czyi7mM3ZXcp",
        "outputId": "776d9cce-ea16-4366-c50a-90e522b2763a"
      },
      "source": [
        "y_pred = rf_model.predict(x_train_scaled)\r\n",
        "mean_squared_error(y_train, y_pred)"
      ],
      "execution_count": 167,
      "outputs": [
        {
          "output_type": "execute_result",
          "data": {
            "text/plain": [
              "0.05010800936567998"
            ]
          },
          "metadata": {
            "tags": []
          },
          "execution_count": 167
        }
      ]
    },
    {
      "cell_type": "code",
      "metadata": {
        "colab": {
          "base_uri": "https://localhost:8080/"
        },
        "id": "CPfVWH28aPeP",
        "outputId": "6187f352-90b9-4ae2-c012-6be0bf06c219"
      },
      "source": [
        "y_valid_pred = rf_model.predict(x_valid_scaled)\r\n",
        "mean_squared_error(y_valid, y_valid_pred)"
      ],
      "execution_count": 168,
      "outputs": [
        {
          "output_type": "execute_result",
          "data": {
            "text/plain": [
              "0.12136428451857113"
            ]
          },
          "metadata": {
            "tags": []
          },
          "execution_count": 168
        }
      ]
    },
    {
      "cell_type": "code",
      "metadata": {
        "id": "Ft4cI5JxhOcN"
      },
      "source": [
        "x_test_scaled = scaler.transform(test_df_processed)"
      ],
      "execution_count": 169,
      "outputs": []
    },
    {
      "cell_type": "code",
      "metadata": {
        "id": "gk1zUEyMavRE"
      },
      "source": [
        "test_predictions = rf_model.predict(x_test_scaled)"
      ],
      "execution_count": 170,
      "outputs": []
    },
    {
      "cell_type": "code",
      "metadata": {
        "colab": {
          "base_uri": "https://localhost:8080/"
        },
        "id": "CZdPmdyshqEC",
        "outputId": "481fbd86-98c1-4bc7-d167-494ef5c3eddd"
      },
      "source": [
        "type(test_predictions)"
      ],
      "execution_count": 172,
      "outputs": [
        {
          "output_type": "execute_result",
          "data": {
            "text/plain": [
              "numpy.ndarray"
            ]
          },
          "metadata": {
            "tags": []
          },
          "execution_count": 172
        }
      ]
    },
    {
      "cell_type": "code",
      "metadata": {
        "id": "x8xFui2tiflW"
      },
      "source": [
        "test_predictions = np.ravel(test_predictions)"
      ],
      "execution_count": 173,
      "outputs": []
    },
    {
      "cell_type": "code",
      "metadata": {
        "id": "1rs5B4_0iqrP"
      },
      "source": [
        "test_predictions = clipExp(test_predictions)"
      ],
      "execution_count": 174,
      "outputs": []
    },
    {
      "cell_type": "code",
      "metadata": {
        "colab": {
          "base_uri": "https://localhost:8080/"
        },
        "id": "Wurr8vCDkqso",
        "outputId": "34afda8e-e54f-4a55-b1fa-b11354961384"
      },
      "source": [
        "test_predictions"
      ],
      "execution_count": 175,
      "outputs": [
        {
          "output_type": "execute_result",
          "data": {
            "text/plain": [
              "array([   220.87267642,    289.30052586,    215.68787265, ...,\n",
              "          527.44244787,    237.13448241, 183650.10236192])"
            ]
          },
          "metadata": {
            "tags": []
          },
          "execution_count": 175
        }
      ]
    },
    {
      "cell_type": "code",
      "metadata": {
        "id": "Xnefj9f3ks5x"
      },
      "source": [
        "submission =  pd.DataFrame({'Customer Id' : test_original['Customer Id'] , 'Cost': test_predictions})"
      ],
      "execution_count": 176,
      "outputs": []
    },
    {
      "cell_type": "code",
      "metadata": {
        "id": "hZxMvhSvmnjy"
      },
      "source": [
        "submission.to_csv('submission_rf.csv')"
      ],
      "execution_count": 178,
      "outputs": []
    },
    {
      "cell_type": "code",
      "metadata": {
        "id": "5Psr4-i2pQK3"
      },
      "source": [
        ""
      ],
      "execution_count": null,
      "outputs": []
    }
  ]
}